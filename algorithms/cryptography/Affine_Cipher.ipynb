{
 "cells": [
  {
   "cell_type": "code",
   "execution_count": 1,
   "metadata": {},
   "outputs": [
    {
     "name": "stdout",
     "output_type": "stream",
     "text": [
      "Enter keys such that a and m(=26) are coprime\n",
      "Enter a: 3\n",
      "Enter b: 7\n",
      "Enter 1 for encryption and 2 for decryption: 1\n",
      "Enter plaintext: Hello\n",
      "Encrypted text:  CTOOX\n"
     ]
    }
   ],
   "source": [
    "#Affine Cipher\n",
    "def inverse(a,m):\n",
    "    x = 1\n",
    "    y = 0\n",
    "    m0 = m\n",
    "    while(a>1):\n",
    "        q = a//m\n",
    "        t = m\n",
    "        m = a%m\n",
    "        a = t\n",
    "        t = y\n",
    "        \n",
    "        y = x - q * y\n",
    "        x = t\n",
    "    if(x<0):\n",
    "        x += m0\n",
    "    return x\n",
    "print(\"Enter keys such that a and m(=26) are coprime\")\n",
    "m = 26\n",
    "a = int(input(\"Enter a: \"))\n",
    "b = int(input(\"Enter b: \"))\n",
    "choice = int(input(\"Enter 1 for encryption and 2 for decryption: \"))\n",
    "if(choice == 1):\n",
    "    msg = input(\"Enter plaintext: \")\n",
    "    msg = msg.upper()\n",
    "    en = \"\"\n",
    "    for i in msg:\n",
    "        if(i==\" \"):\n",
    "            en += \" \"\n",
    "        else:\n",
    "            p = ord(i)-65 #number of that character\n",
    "            c = ( (a*p) + b ) % m\n",
    "            en += chr(65+c)\n",
    "\n",
    "    print(\"Encrypted text: \",en)\n",
    "elif(choice == 2):\n",
    "    msg = input(\"Enter encrypted text: \")\n",
    "    msg = msg.upper()\n",
    "    ain = inverse(a,m)\n",
    "    de = \"\"\n",
    "    for i in msg:\n",
    "        if(i==\" \"):\n",
    "            de += \" \"\n",
    "        else:\n",
    "            c = ord(i)-65 #number of that character\n",
    "            p = ( ain * (c - b) ) % m\n",
    "            de += chr(65+p)\n",
    "    print(\"Decrypted text: \", de)\n",
    "        "
   ]
  },
  {
   "cell_type": "code",
   "execution_count": null,
   "metadata": {},
   "outputs": [],
   "source": []
  }
 ],
 "metadata": {
  "kernelspec": {
   "display_name": "Python 3",
   "language": "python",
   "name": "python3"
  },
  "language_info": {
   "codemirror_mode": {
    "name": "ipython",
    "version": 3
   },
   "file_extension": ".py",
   "mimetype": "text/x-python",
   "name": "python",
   "nbconvert_exporter": "python",
   "pygments_lexer": "ipython3",
   "version": "3.6.5"
  }
 },
 "nbformat": 4,
 "nbformat_minor": 2
}
